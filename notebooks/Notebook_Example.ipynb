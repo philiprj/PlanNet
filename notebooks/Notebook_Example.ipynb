{
 "cells": [
  {
   "cell_type": "code",
   "execution_count": 2,
   "metadata": {},
   "outputs": [
    {
     "name": "stdout",
     "output_type": "stream",
     "text": [
      "Hello World!\n"
     ]
    }
   ],
   "source": [
    "import sys\n",
    "sys.path.append('/relnet')\n",
    "\n",
    "from relnet.agent.base_agent import Agent\n",
    "Agent.say_hello()"
   ]
  }
 ],
 "metadata": {
  "kernelspec": {
   "display_name": "python-relnet",
   "language": "python",
   "name": "relnet"
  },
  "language_info": {
   "codemirror_mode": {
    "name": "ipython",
    "version": 3
   },
   "file_extension": ".py",
   "mimetype": "text/x-python",
   "name": "python",
   "nbconvert_exporter": "python",
   "pygments_lexer": "ipython3",
   "version": "3.6.8"
  }
 },
 "nbformat": 4,
 "nbformat_minor": 1
}
